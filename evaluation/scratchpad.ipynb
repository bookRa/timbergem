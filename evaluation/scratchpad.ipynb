{
 "cells": [
  {
   "cell_type": "code",
   "execution_count": 8,
   "id": "248c50ca",
   "metadata": {},
   "outputs": [
    {
     "name": "stdout",
     "output_type": "stream",
     "text": [
      "Opening  1_input_documents/Gascoigne_CC_a0.10.pdf\n",
      "creating high rez pixmap\n",
      "saving pixmap\n",
      "looking for tables\n",
      "Opening  1_input_documents/Gascoigne_CC_a0.22.pdf\n",
      "creating high rez pixmap\n",
      "saving pixmap\n",
      "looking for tables\n",
      "Opening  1_input_documents/Gascoigne_CC_a2.02.pdf\n",
      "creating high rez pixmap\n",
      "saving pixmap\n",
      "looking for tables\n",
      "Opening  1_input_documents/Gascoigne_CC_a6.00.pdf\n",
      "creating high rez pixmap\n",
      "saving pixmap\n",
      "looking for tables\n"
     ]
    }
   ],
   "source": [
    "import fitz\n",
    "import pandas as pd\n",
    "# allow pandas to display everything in ipynb\n",
    "pd.set_option('display.max_rows', None)\n",
    "pd.set_option('display.max_columns', None)\n",
    "pd.set_option('display.width', None)\n",
    "pd.set_option('display.max_colwidth', None)\n",
    "\n",
    "pages = [\"a0.10\", \"a0.22\", \"a2.02\", \"a6.00\"]\n",
    "\n",
    "for p in pages:\n",
    "    doc_path = f\"1_input_documents/Gascoigne_CC_{p}.pdf\"\n",
    "    print(\"Opening \", doc_path)\n",
    "    doc = fitz.open(doc_path)\n",
    "    page = doc[0]\n",
    "    print(\"creating high rez pixmap\")\n",
    "    pix = page.get_pixmap(matrix=fitz.Matrix(3, 3))\n",
    "    print(\"saving pixmap\")\n",
    "    pix.save(f\"2_output_artifacts/Gascoigne_CC_{p}/pymupdf_pixmap.png\")\n",
    "    print(\"looking for tables\")\n",
    "    # gather all the tables and store them as markdown tables and save them to 2_output_artifacts/Gascoigne_CC_{p}/pymupdf_tables.md\n",
    "    tables = []\n",
    "    for table in page.find_tables():\n",
    "        tables.append(table.to_pandas())\n",
    "    with open(f\"2_output_artifacts/Gascoigne_CC_{p}/pymupdf_tables.md\", \"w\") as f:\n",
    "        for table in tables:\n",
    "            f.write(table.to_markdown())\n",
    "            # add newlines to define a new table\n",
    "            f.write(\"\\n\\n\")\n",
    "    doc.close()"
   ]
  }
 ],
 "metadata": {
  "kernelspec": {
   "display_name": "timbergem",
   "language": "python",
   "name": "python3"
  },
  "language_info": {
   "codemirror_mode": {
    "name": "ipython",
    "version": 3
   },
   "file_extension": ".py",
   "mimetype": "text/x-python",
   "name": "python",
   "nbconvert_exporter": "python",
   "pygments_lexer": "ipython3",
   "version": "3.12.7"
  }
 },
 "nbformat": 4,
 "nbformat_minor": 5
}
