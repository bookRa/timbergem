{
 "cells": [
  {
   "cell_type": "code",
   "execution_count": 13,
   "id": "248c50ca",
   "metadata": {},
   "outputs": [
    {
     "name": "stdout",
     "output_type": "stream",
     "text": [
      "Saved symbol clipping to symbol_debug/symbol_0.png\n"
     ]
    }
   ],
   "source": [
    "import fitz\n",
    "import pandas as pd\n",
    "import cv2\n",
    "import json\n",
    "# allow pandas to display everything in ipynb\n",
    "pd.set_option('display.max_rows', None)\n",
    "pd.set_option('display.max_columns', None)\n",
    "pd.set_option('display.width', None)\n",
    "pd.set_option('display.max_colwidth', None)\n",
    "\n",
    "doc_id = \"f654f716-0693-4888-9d87-092f2476195b\"\n",
    "\n",
    "metadata_path = f\"/Users/bigo/Projects/timbergem/data/processed/{doc_id}/symbols/symbols_metadata.json\"\n",
    "document_path = f\"/Users/bigo/Projects/timbergem/data/processed/{doc_id}/original.pdf\"\n",
    "legend_path = f\"/Users/bigo/Projects/timbergem/data/processed/{doc_id}/clippings/page1/SymbolLegend_1_clipping.png\"\n",
    "\n",
    "\"\"\"\n",
    "Debug the symbol coordinates in the legend by loading the legend image and applying the coordinates in metadata.symbols[].coordinates.legend_relative (utilizing left, top, width, height). Saves a clipping from the legend image in \"symbol_debug\"\n",
    "\"\"\"\n",
    "def debug_symbol_coordinates():\n",
    "    with open(metadata_path, \"r\") as f:\n",
    "        metadata_json = json.load(f)\n",
    "    symbols = metadata_json[\"symbols\"]\n",
    "    metadata = pd.DataFrame(symbols)\n",
    "    legend_image = cv2.imread(legend_path)\n",
    "\n",
    "    for i, symbol in metadata.iterrows():\n",
    "        coordinates = symbol['coordinates']['legend_relative']\n",
    "        left = coordinates['left']\n",
    "        top = coordinates['top']\n",
    "        width = coordinates['width']\n",
    "        height = coordinates['height']\n",
    "        # extract the symbol clipping from the legend image\n",
    "        symbol_clipping = legend_image[top:top + height, left:left + width]\n",
    "        # save the symbol clipping as an image\n",
    "        symbol_image_path = f\"symbol_debug/symbol_{i}.png\"\n",
    "        cv2.imwrite(symbol_image_path, symbol_clipping)\n",
    "        print(f\"Saved symbol clipping to {symbol_image_path}\")\n",
    "debug_symbol_coordinates()\n"
   ]
  },
  {
   "cell_type": "code",
   "execution_count": null,
   "id": "164eca42",
   "metadata": {},
   "outputs": [],
   "source": []
  },
  {
   "cell_type": "code",
   "execution_count": null,
   "id": "a4fd42cf",
   "metadata": {},
   "outputs": [
    {
     "name": "stdout",
     "output_type": "stream",
     "text": [
      "Testing coordinate transformation with fixed function:\n",
      "Canvas coords: {'left': 355.75, 'top': 90.43, 'width': 103, 'height': 103}\n",
      "Canvas dimensions: 1200x800\n",
      "       → DETAILED Coordinate transformation debug:\n",
      "         INPUT - Canvas coords: (355.8, 90.4) 103.0x103.0\n",
      "         INPUT - Canvas dimensions: 1200.0x800.0\n",
      "         METADATA - PDF: 2592.0x1728.0 pts\n",
      "         METADATA - Image: 7200x4800 px\n",
      "         METADATA - Rotation: 0°\n",
      "         METADATA - DPI: 200\n",
      "         SCALING - Expected frontend canvas: 1200.0x800.0\n",
      "         SCALING - Calculated scale: 0.166667\n",
      "         SCALING - Image aspect ratio: 1.500000\n",
      "         ORIGINAL IMAGE - Coords: (2134.5, 542.6) 618.0x618.0\n",
      "         FINAL PDF - Coords: (768.4, 1310.2) 222.5x222.5\n",
      "PDF coords: {'left': 768.42, 'top': 1310.1912, 'width': 222.48, 'height': 222.48}\n",
      "Expected PDF coords: {'left': 128.07, 'top': 32.55, 'width': 37.08, 'height': 37.08}\n",
      "Difference in left: 640.35\n",
      "Difference in top: 1277.64\n",
      "Difference in width: 185.40\n",
      "Difference in height: 185.40\n"
     ]
    }
   ],
   "source": [
    "\n"
   ]
  },
  {
   "cell_type": "code",
   "execution_count": 14,
   "id": "bc300db2",
   "metadata": {},
   "outputs": [
    {
     "name": "stdout",
     "output_type": "stream",
     "text": [
      "Symbol 0: Width: 0.32 inches, Height: 0.12 inches\n",
      "Symbol 0: Width: 398 pixels, Height: 146 pixels\n",
      "Saved symbol clipping to symbol_debug/symbol_0.png\n"
     ]
    }
   ],
   "source": [
    "\n",
    "\"\"\"\n",
    "calculates the symbol dimensions in 300 dpi based on the contours of the symbol clippings\n",
    "references each symbol in the metadata json \"symbols\" list. Utilizes \"source_legend.page_number\"(1-indexed) and \"coordinates.pdf_absolute\" to find the symbol clipping in the pdf.\n",
    "prints the height and width of each symbol\n",
    "saves the contour clippings in \"symbol_debug\" dir in root of the project\n",
    "\"\"\"\n",
    "def calculate_symbol_dimensions():\n",
    "    with open(metadata_path, \"r\") as f:\n",
    "        metadata_json = json.load(f)\n",
    "    symbols = metadata_json[\"symbols\"]\n",
    "    metadata = pd.DataFrame(symbols)\n",
    "    document = fitz.open(document_path)\n",
    "\n",
    "    for i, symbol in metadata.iterrows():\n",
    "        page_number = symbol['source_legend']['page_number'] - 1  # convert to 0-indexed\n",
    "        coordinates = symbol['coordinates']['pdf_absolute']\n",
    "        # pdf_absolute contains left, top, width, and height\n",
    "        left = coordinates['left']\n",
    "        top = coordinates['top']\n",
    "        width = coordinates['width']\n",
    "        height = coordinates['height']\n",
    "        # calculate the dimensions in 300 dpi\n",
    "        dpi = 300\n",
    "        width_in_inches = width / dpi\n",
    "        height_in_inches = height / dpi\n",
    "        print(f\"Symbol {i}: Width: {width_in_inches:.2f} inches, Height: {height_in_inches:.2f} inches\")\n",
    "        # calculate the dimensions in 300dpi pixels\n",
    "        width_in_pixels = int(width * dpi / 72)\n",
    "        height_in_pixels = int(height * dpi / 72)\n",
    "        print(f\"Symbol {i}: Width: {width_in_pixels} pixels, Height: {height_in_pixels} pixels\")\n",
    "        # extract the symbol clipping from the pdf\n",
    "        page = document[page_number]\n",
    "        rect = fitz.Rect(left, top, left + width, top + height)\n",
    "        pix = page.get_pixmap(clip=rect, dpi=dpi)\n",
    "        # save the symbol clipping as an image\n",
    "        symbol_image_path = f\"symbol_debug/symbol_{i}.png\"\n",
    "        pix.save(symbol_image_path)\n",
    "        print(f\"Saved symbol clipping to {symbol_image_path}\")\n",
    "\n",
    "calculate_symbol_dimensions()\n"
   ]
  }
 ],
 "metadata": {
  "kernelspec": {
   "display_name": "timbergem",
   "language": "python",
   "name": "python3"
  },
  "language_info": {
   "codemirror_mode": {
    "name": "ipython",
    "version": 3
   },
   "file_extension": ".py",
   "mimetype": "text/x-python",
   "name": "python",
   "nbconvert_exporter": "python",
   "pygments_lexer": "ipython3",
   "version": "3.12.7"
  }
 },
 "nbformat": 4,
 "nbformat_minor": 5
}
