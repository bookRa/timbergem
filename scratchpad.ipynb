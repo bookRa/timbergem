{
 "cells": [
  {
   "cell_type": "code",
   "execution_count": 11,
   "id": "248c50ca",
   "metadata": {},
   "outputs": [
    {
     "name": "stdout",
     "output_type": "stream",
     "text": [
      "Saved symbol clipping to symbol_debug/image_symbol_0.png\n"
     ]
    }
   ],
   "source": [
    "import fitz\n",
    "import pandas as pd\n",
    "import cv2\n",
    "import json\n",
    "# allow pandas to display everything in ipynb\n",
    "pd.set_option('display.max_rows', None)\n",
    "pd.set_option('display.max_columns', None)\n",
    "pd.set_option('display.width', None)\n",
    "pd.set_option('display.max_colwidth', None)\n",
    "\n",
    "doc_id = \"a13245ab-97c7-4724-a7b5-2d3f403a561a\"\n",
    "\n",
    "metadata_path = f\"/Users/bigo/Projects/timbergem/data/processed/{doc_id}/symbols/symbols_metadata.json\"\n",
    "project_data_path = f\"/Users/bigo/Projects/timbergem/data/processed/{doc_id}/project_data.json\"\n",
    "document_path = f\"/Users/bigo/Projects/timbergem/data/processed/{doc_id}/original.pdf\"\n",
    "legend_path = f\"/Users/bigo/Projects/timbergem/data/processed/{doc_id}/clippings/page1/SymbolLegend_1_clipping.png\"\n",
    "\n",
    "\"\"\"\n",
    "Debug the symbol coordinates in the legend by loading the legend image and applying the coordinates in metadata.symbols[].coordinates.legend_relative (utilizing left, top, width, height). Saves a clipping from the legend image in \"symbol_debug\"\n",
    "\"\"\"\n",
    "def debug_symbol_coordinates():\n",
    "    with open(metadata_path, \"r\") as f:\n",
    "        metadata_json = json.load(f)\n",
    "    symbols = metadata_json[\"symbols\"]\n",
    "    metadata = pd.DataFrame(symbols)\n",
    "    legend_image = cv2.imread(legend_path)\n",
    "\n",
    "    for i, symbol in metadata.iterrows():\n",
    "        coordinates = symbol['coordinates']['legend_relative']\n",
    "        left = coordinates['left']\n",
    "        top = coordinates['top']\n",
    "        width = coordinates['width']\n",
    "        height = coordinates['height']\n",
    "        # extract the symbol clipping from the legend image\n",
    "        symbol_clipping = legend_image[top:top + height, left:left + width]\n",
    "        # save the symbol clipping as an image\n",
    "        symbol_image_path = f\"symbol_debug/image_symbol_{i}.png\"\n",
    "        cv2.imwrite(symbol_image_path, symbol_clipping)\n",
    "        print(f\"Saved symbol clipping to {symbol_image_path}\")\n",
    "debug_symbol_coordinates()\n"
   ]
  },
  {
   "cell_type": "code",
   "execution_count": 12,
   "id": "bc300db2",
   "metadata": {},
   "outputs": [
    {
     "name": "stdout",
     "output_type": "stream",
     "text": [
      "Symbol 0: Width: 0.02 inches, Height: 0.02 inches\n",
      "Symbol 0: Width: 19 pixels, Height: 18 pixels\n",
      "Saved symbol clipping to symbol_debug/pdf_symbol_0.png\n"
     ]
    }
   ],
   "source": [
    "\n",
    "\"\"\"\n",
    "calculates the symbol dimensions in 300 dpi based on the contours of the symbol clippings\n",
    "references each symbol in the metadata json \"symbols\" list. Utilizes \"source_legend.page_number\"(1-indexed) and \"coordinates.pdf_absolute\" to find the symbol clipping in the pdf.\n",
    "prints the height and width of each symbol\n",
    "saves the contour clippings in \"symbol_debug\" dir in root of the project\n",
    "\"\"\"\n",
    "def calculate_symbol_dimensions():\n",
    "    with open(metadata_path, \"r\") as f:\n",
    "        metadata_json = json.load(f)\n",
    "    symbols = metadata_json[\"symbols\"]\n",
    "    metadata = pd.DataFrame(symbols)\n",
    "    document = fitz.open(document_path)\n",
    "\n",
    "    for i, symbol in metadata.iterrows():\n",
    "        page_number = symbol['source_legend']['page_number'] - 1  # convert to 0-indexed\n",
    "        coordinates = symbol['coordinates']['pdf_absolute']\n",
    "        legend_id = symbol['source_legend']['legend_id']\n",
    "        # find the coords/dims of the source legend in project_data.json\n",
    "        with open(project_data_path, \"r\") as f:\n",
    "            project_data = json.load(f)\n",
    "        key_areas = project_data[\"projectData\"]['keyAreas']\n",
    "        for k, v in key_areas.items():\n",
    "            for area in v:\n",
    "                if area[\"id\"] == legend_id:\n",
    "                    area_left, area_top, area_width, area_height = area[\"left\"], area[\"top\"], area[\"width\"], area[\"height\"]\n",
    "                    break\n",
    "        if not area_left or not area_top or not area_width or not area_height:\n",
    "            print(f\"Legend ID {legend_id} not found in project_data.json\")\n",
    "            continue\n",
    "        # pdf_absolute contains left, top, width, and height\n",
    "        left = coordinates['left'] + area_left\n",
    "        top = coordinates['top'] + area_top\n",
    "        width = coordinates['width']\n",
    "        height = coordinates['height']\n",
    "        # calculate the dimensions in 300 dpi\n",
    "        dpi = 300\n",
    "        width_in_inches = width / dpi\n",
    "        height_in_inches = height / dpi\n",
    "        print(f\"Symbol {i}: Width: {width_in_inches:.2f} inches, Height: {height_in_inches:.2f} inches\")\n",
    "        # calculate the dimensions in 300dpi pixels\n",
    "        width_in_pixels = int(width * dpi / 72)\n",
    "        height_in_pixels = int(height * dpi / 72)\n",
    "        print(f\"Symbol {i}: Width: {width_in_pixels} pixels, Height: {height_in_pixels} pixels\")\n",
    "        # extract the symbol clipping from the pdf\n",
    "        page = document[page_number]\n",
    "        symbol_rect = fitz.Rect(left, top, left + width, top + height)\n",
    "        area_rect = fitz.Rect(area_left, area_top, area_left + area_width, area_top + area_height)\n",
    "        # draw the rectangle on the page for debugging\n",
    "        page.draw_rect(area_rect, color=(0, 1, 0), width=1)\n",
    "        page.draw_rect(symbol_rect, color=(1, 0, 0), width=1)\n",
    "        pix = page.get_pixmap(dpi=dpi)\n",
    "        # save the symbol clipping as an image\n",
    "        symbol_image_path = f\"symbol_debug/pdf_symbol_{i}.png\"\n",
    "        pix.save(symbol_image_path)\n",
    "        print(f\"Saved symbol clipping to {symbol_image_path}\")\n",
    "\n",
    "calculate_symbol_dimensions()\n"
   ]
  },
  {
   "cell_type": "code",
   "execution_count": 3,
   "id": "89cc93bf",
   "metadata": {},
   "outputs": [
    {
     "name": "stdout",
     "output_type": "stream",
     "text": [
      "Saved debug rectangle image to symbol_debug/debug_rectangle.png\n"
     ]
    }
   ],
   "source": [
    "\"\"\"\n",
    "\"left\": 275.5,\n",
    "\"top\": 45.359375,\n",
    "\"width\": 193,\n",
    "\"height\": 179,\n",
    "\"\"\"\n",
    "import fitz\n",
    "\n",
    "# load /Users/bigo/Projects/timbergem/data/Gasc_annot_debug.pdf and draw a rectangle at (275.5, 45.359375) with width 193 and height 179. Save the page as an image in \"symbol_debug\" dir\n",
    "def draw_debug_rectangle():\n",
    "    doc = fitz.open(\"/Users/bigo/Projects/timbergem/data/Gasc_annot_debug.pdf\")\n",
    "    page = doc[0]  # first page\n",
    "    left = 275.5\n",
    "    top = 45.359375\n",
    "    width = 193\n",
    "    height = 179\n",
    "    rect = fitz.Rect(left, top, left + width, top + height)\n",
    "    rect = fitz.Rect(595, 98, 1011, 484)\n",
    "    # draw the rectangle on the page for debugging\n",
    "    page.draw_rect(rect, color=(1, 0, 0), width=1)\n",
    "    pix = page.get_pixmap(dpi=300)\n",
    "    # save the page as an image\n",
    "    debug_image_path = \"symbol_debug/debug_rectangle.png\"\n",
    "    pix.save(debug_image_path)\n",
    "    print(f\"Saved debug rectangle image to {debug_image_path}\")\n",
    "draw_debug_rectangle()"
   ]
  }
 ],
 "metadata": {
  "kernelspec": {
   "display_name": "timbergem",
   "language": "python",
   "name": "python3"
  },
  "language_info": {
   "codemirror_mode": {
    "name": "ipython",
    "version": 3
   },
   "file_extension": ".py",
   "mimetype": "text/x-python",
   "name": "python",
   "nbconvert_exporter": "python",
   "pygments_lexer": "ipython3",
   "version": "3.12.7"
  }
 },
 "nbformat": 4,
 "nbformat_minor": 5
}
