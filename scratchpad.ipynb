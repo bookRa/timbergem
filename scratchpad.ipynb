{
 "cells": [
  {
   "cell_type": "code",
   "execution_count": 2,
   "id": "248c50ca",
   "metadata": {},
   "outputs": [
    {
     "name": "stdout",
     "output_type": "stream",
     "text": [
      "Saved symbol clipping to symbol_debug/image_symbol_0.png\n"
     ]
    }
   ],
   "source": [
    "import fitz\n",
    "import pandas as pd\n",
    "import cv2\n",
    "import json\n",
    "# allow pandas to display everything in ipynb\n",
    "pd.set_option('display.max_rows', None)\n",
    "pd.set_option('display.max_columns', None)\n",
    "pd.set_option('display.width', None)\n",
    "pd.set_option('display.max_colwidth', None)\n",
    "\n",
    "doc_id = \"a1e613ba-d726-4920-a7bc-f5fc9f7ab225\"\n",
    "\n",
    "metadata_path = f\"/Users/bigo/Projects/timbergem/data/processed/{doc_id}/symbols/symbols_metadata.json\"\n",
    "project_data_path = f\"/Users/bigo/Projects/timbergem/data/processed/{doc_id}/project_data.json\"\n",
    "document_path = f\"/Users/bigo/Projects/timbergem/data/processed/{doc_id}/original.pdf\"\n",
    "legend_path = f\"/Users/bigo/Projects/timbergem/data/processed/{doc_id}/clippings/page1/SymbolLegend_1_clipping.png\"\n",
    "\n",
    "\"\"\"\n",
    "Debug the symbol coordinates in the legend by loading the legend image and applying the coordinates in metadata.symbols[].coordinates.legend_relative (utilizing left, top, width, height). Saves a clipping from the legend image in \"symbol_debug\"\n",
    "\"\"\"\n",
    "def debug_symbol_coordinates():\n",
    "    with open(metadata_path, \"r\") as f:\n",
    "        metadata_json = json.load(f)\n",
    "    symbols = metadata_json[\"symbols\"]\n",
    "    metadata = pd.DataFrame(symbols)\n",
    "    legend_image = cv2.imread(legend_path)\n",
    "\n",
    "    for i, symbol in metadata.iterrows():\n",
    "        coordinates = symbol['coordinates']['legend_clipping_relative']\n",
    "        left = coordinates['left_clipping_pixels']\n",
    "        top = coordinates['top_clipping_pixels']\n",
    "        width = coordinates['width_clipping_pixels']\n",
    "        height = coordinates['height_clipping_pixels']\n",
    "        # extract the symbol clipping from the legend image\n",
    "        symbol_clipping = legend_image[top:top + height, left:left + width]\n",
    "        # save the symbol clipping as an image\n",
    "        symbol_image_path = f\"symbol_debug/image_symbol_{i}.png\"\n",
    "        cv2.imwrite(symbol_image_path, symbol_clipping)\n",
    "        print(f\"Saved symbol clipping to {symbol_image_path}\")\n",
    "debug_symbol_coordinates()\n"
   ]
  },
  {
   "cell_type": "code",
   "execution_count": null,
   "id": "bc300db2",
   "metadata": {},
   "outputs": [
    {
     "name": "stdout",
     "output_type": "stream",
     "text": [
      "{'id': '1753736797620-1', 'tag': 'SymbolLegend', 'left': 269, 'top': 47.359375, 'width': 198, 'height': 166, 'pageNumber': 1, 'pdfCoordinates': {'left_points': 581.04, 'top_points': 1267.2, 'width_points': 427.68, 'height_points': 358.56}}\n",
      "1753736797620-1 1753736797620-1\n",
      "Symbol 0: Left: 611.52, Top: 1312.56, Width: 23.52, Height: 22.56\n",
      "Legend: Left: 581.04, Top: 1267.2, Width: 427.68, Height: 358.56\n",
      "Saved symbol clipping to symbol_debug/pdf_symbol_0.png\n"
     ]
    }
   ],
   "source": [
    "\n",
    "\"\"\"\n",
    "calculates the symbol dimensions in 300 dpi based on the contours of the symbol clippings\n",
    "references each symbol in the metadata json \"symbols\" list. Utilizes \"source_legend.page_number\"(1-indexed) and \"coordinates.pdf_absolute\" to find the symbol clipping in the pdf.\n",
    "prints the height and width of each symbol\n",
    "saves the contour clippings in \"symbol_debug\" dir in root of the project\n",
    "\"\"\"\n",
    "def calculate_symbol_dimensions():\n",
    "    with open(metadata_path, \"r\") as f:\n",
    "        metadata_json = json.load(f)\n",
    "    symbols = metadata_json[\"symbols\"]\n",
    "    metadata = pd.DataFrame(symbols)\n",
    "    document = fitz.open(document_path)\n",
    "\n",
    "    for i, symbol in metadata.iterrows():\n",
    "        legend_id = symbol['source_legend']['annotation_id']\n",
    "        with open(project_data_path, \"r\") as f:\n",
    "            project_data = json.load(f)\n",
    "        key_areas = project_data[\"projectData\"]['keyAreas']\n",
    "        for _, v in key_areas.items():\n",
    "            for area in v:\n",
    "                print(area)\n",
    "                print(area[\"id\"], legend_id)\n",
    "                if area[\"id\"] == legend_id:\n",
    "                    page_number = area['pageNumber']\n",
    "                    break\n",
    "        if not page_number:\n",
    "            print(f\"XXX Page Number not found for Legend ID {legend_id} in project_data.json\")\n",
    "            continue\n",
    "        legend_left_points = symbol['source_legend']['pdf_coordinates']['left_points']\n",
    "        legend_top_points = symbol['source_legend']['pdf_coordinates']['top_points']\n",
    "        legend_width_points = symbol['source_legend']['pdf_coordinates']['width_points']\n",
    "        legend_height_points = symbol['source_legend']['pdf_coordinates']['height_points']\n",
    "        symbol_left_points = symbol['coordinates']['pdf_absolute']['left_points']\n",
    "        symbol_top_points = symbol['coordinates']['pdf_absolute']['top_points']\n",
    "        symbol_width_points = symbol['coordinates']['pdf_absolute']['width_points']\n",
    "        symbol_height_points = symbol['coordinates']['pdf_absolute']['height_points']\n",
    "        page = document[page_number- 1]  # convert to 0-indexed\n",
    "        # print all the coordinates and dimensions detected\n",
    "        print(f\"Symbol {i}: Left: {symbol_left_points}, Top: {symbol_top_points}, Width: {symbol_width_points}, Height: {symbol_height_points}\")\n",
    "        print(f\"Legend: Left: {legend_left_points}, Top: {legend_top_points}, Width: {legend_width_points}, Height: {legend_height_points}\")\n",
    "        # draw a sample rectangle on the page for debugging\n",
    "        # page.draw_rect(fitz.Rect(0, 0, 100, 100), color=(0, 1, 0), width=1)\n",
    "        # page.draw_rect(fitz.Rect(100, 100, 200, 200), color=(1, 0, 0), width=1)\n",
    "        # pix = page.get_pixmap()\n",
    "        # pix.save(f\"symbol_debug/pdf_symbol_debug_{i}.png\")\n",
    "        # save the symbol clipping as an image\n",
    "        symbol_rect = fitz.Rect(symbol_left_points, symbol_top_points, symbol_left_points + symbol_width_points, symbol_top_points + symbol_height_points)\n",
    "        legend_rect = fitz.Rect(legend_left_points, legend_top_points, legend_left_points + legend_width_points, legend_top_points + legend_height_points)\n",
    "        # draw the rectangle on the page for debugging\n",
    "        page.draw_rect(legend_rect, color=(0, 1, 0), width=1)\n",
    "        page.draw_rect(symbol_rect, color=(1, 0, 0), width=1)\n",
    "        pix = page.get_pixmap()\n",
    "        # save the symbol clipping as an image\n",
    "        symbol_image_path = f\"symbol_debug/pdf_symbol_{i}.png\"\n",
    "        pix.save(symbol_image_path)\n",
    "        print(f\"Saved symbol clipping to {symbol_image_path}\")\n",
    "\n",
    "calculate_symbol_dimensions()\n"
   ]
  },
  {
   "cell_type": "code",
   "execution_count": 3,
   "id": "89cc93bf",
   "metadata": {},
   "outputs": [
    {
     "name": "stdout",
     "output_type": "stream",
     "text": [
      "Saved debug rectangle image to symbol_debug/debug_rectangle.png\n"
     ]
    }
   ],
   "source": [
    "\"\"\"\n",
    "\"left\": 275.5,\n",
    "\"top\": 45.359375,\n",
    "\"width\": 193,\n",
    "\"height\": 179,\n",
    "\"\"\"\n",
    "import fitz\n",
    "\n",
    "# load /Users/bigo/Projects/timbergem/data/Gasc_annot_debug.pdf and draw a rectangle at (275.5, 45.359375) with width 193 and height 179. Save the page as an image in \"symbol_debug\" dir\n",
    "def draw_debug_rectangle():\n",
    "    doc = fitz.open(\"/Users/bigo/Projects/timbergem/data/Gasc_annot_debug.pdf\")\n",
    "    page = doc[0]  # first page\n",
    "    left = 275.5\n",
    "    top = 45.359375\n",
    "    width = 193\n",
    "    height = 179\n",
    "    rect = fitz.Rect(left, top, left + width, top + height)\n",
    "    rect = fitz.Rect(595, 98, 1011, 484)\n",
    "    # draw the rectangle on the page for debugging\n",
    "    page.draw_rect(rect, color=(1, 0, 0), width=1)\n",
    "    pix = page.get_pixmap(dpi=300)\n",
    "    # save the page as an image\n",
    "    debug_image_path = \"symbol_debug/debug_rectangle.png\"\n",
    "    pix.save(debug_image_path)\n",
    "    print(f\"Saved debug rectangle image to {debug_image_path}\")\n",
    "draw_debug_rectangle()"
   ]
  }
 ],
 "metadata": {
  "kernelspec": {
   "display_name": "timbergem",
   "language": "python",
   "name": "python3"
  },
  "language_info": {
   "codemirror_mode": {
    "name": "ipython",
    "version": 3
   },
   "file_extension": ".py",
   "mimetype": "text/x-python",
   "name": "python",
   "nbconvert_exporter": "python",
   "pygments_lexer": "ipython3",
   "version": "3.12.7"
  }
 },
 "nbformat": 4,
 "nbformat_minor": 5
}
